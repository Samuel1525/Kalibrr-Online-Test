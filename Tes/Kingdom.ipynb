{
 "cells": [
  {
   "cell_type": "code",
   "execution_count": 160,
   "id": "9d837269",
   "metadata": {},
   "outputs": [
    {
     "data": {
      "text/plain": [
       "['.#', '#a']"
      ]
     },
     "execution_count": 160,
     "metadata": {},
     "output_type": "execute_result"
    }
   ],
   "source": [
    "x=[2,2,2,\".#\",\"#a\",12,15,\"###########....\", \"#.......c.###..\",\"####......#.#..\",\".#.########.#..\",\"##...#..b#..#..\",\"#.a.#...#...###\",\n",
    "   \"####.#.#d###..#\",\"......#...e#xx#\",\".#....#########\",\".#.x..#..#.....\",\".######.c#.....\",\"......####.....\"]\n",
    "del x[0]\n",
    "maps=x[2:int(x[0])+2]\n",
    "del x[0:int(x[0])+2]\n",
    "maps"
   ]
  },
  {
   "cell_type": "code",
   "execution_count": 190,
   "id": "053b2eef",
   "metadata": {},
   "outputs": [
    {
     "name": "stdout",
     "output_type": "stream",
     "text": [
      "Case 1:\n",
      "a 1\n",
      "contested 0\n",
      "Case 2:\n",
      "a 1\n",
      "b 1\n",
      "c 1\n",
      "x 2\n",
      "contested 2\n"
     ]
    }
   ],
   "source": [
    "x=[2,2,2,\".#\",\"#a\",12,15,\"###########....\", \"#.....xxc.###..\",\"####......#.#..\",\".#.########.#..\",\"##...#..b#..#..\",\"#.a.#...#...###\",\n",
    "   \"####.#.#d###..#\",\"......#...e#xx#\",\".#....#########\",\".#.x..#..#.....\",\".######.c#.....\",\"......####.....\"]\n",
    "\n",
    "import numpy as np\n",
    "import pandas as pd\n",
    "\n",
    "king=[]\n",
    "kontes=[]\n",
    "checking=[]\n",
    "hilang=[]\n",
    "global udah\n",
    "class Graph:\n",
    " \n",
    "    def __init__(self, row, col, g):\n",
    "        self.ROW = row\n",
    "        self.COL = col\n",
    "        self.graph = g\n",
    " \n",
    "    # A function to check if a given cell\n",
    "    # (row, col) can be included in DFS\n",
    "    def isSafe(self, i, j, visited):\n",
    "        # row number is in range, column number\n",
    "        # is in range and value is 1\n",
    "        # and not yet visited\n",
    "        udah=0\n",
    "        if (i >= 0 and i < self.ROW and j >= 0 and j < self.COL and not visited[i][j] and (self.graph[i][j]==\".\" or self.graph[i][j]==checking[-1])):\n",
    "            return True\n",
    "        elif (i >= 0 and i < self.ROW and j >= 0 and j < self.COL and not visited[i][j]\n",
    "              and self.graph[i][j]!=\".\" and self.graph[i][j]!=\"#\"):\n",
    "            \n",
    "            if udah==0:\n",
    "                kontes.append(1)\n",
    "                del king[-1]\n",
    "                udah=udah+1\n",
    "\n",
    "            return True\n",
    "            \n",
    "            \n",
    "             \n",
    " \n",
    "    # A utility function to do DFS for a 2D\n",
    "    # boolean matrix. It only considers\n",
    "    # the 8 neighbours as adjacent vertices\n",
    "    def DFS(self, i, j, visited):\n",
    " \n",
    "        # These arrays are used to get row and\n",
    "        # column numbers of 8 neighbours\n",
    "        # of a given cell\n",
    "        rowNbr = [1, 0, -1,  0];\n",
    "        colNbr = [0, 1,  0, -1];\n",
    "         \n",
    "        # Mark this cell as visited\n",
    "        visited[i][j] = True\n",
    " \n",
    "        for k in range(4):\n",
    "            if self.isSafe(i + rowNbr[k], j + colNbr[k], visited):\n",
    "                self.DFS(i + rowNbr[k], j + colNbr[k], visited)\n",
    "\n",
    " \n",
    " \n",
    "    # The main function that returns\n",
    "    # count of islands in a given boolean\n",
    "    # 2D matrix\n",
    "    def countIslands(self):\n",
    "        # Make a bool array to mark visited cells.\n",
    "        # Initially all cells are unvisited\n",
    "        visited = [[False for j in range(self.COL)]for i in range(self.ROW)]\n",
    "        count=[]\n",
    "        # Initialize count as 0 and traverse\n",
    "        # through the all cells of\n",
    "        # given matrix\n",
    "        for i in range(self.ROW):\n",
    "            for j in range(self.COL):\n",
    "                # If a cell with value 1 is not visited yet,\n",
    "                # then new island found\n",
    "                if visited[i][j] == False and self.graph[i][j] != \".\" and self.graph[i][j]!=\"#\":\n",
    "                    udah=0\n",
    "                    # Visit all cells in this island\n",
    "                    # and increment island count\n",
    "                    king.append(self.graph[i][j])\n",
    "                    checking.append(self.graph[i][j])\n",
    "                    \n",
    "                    self.DFS(i, j, visited)\n",
    "                    count.append(1)\n",
    "        return sum(count)-sum(kontes)\n",
    "\n",
    "perulangan=int(x[0])\n",
    "del x[0]\n",
    "\n",
    "for ulang in range(perulangan):\n",
    "    king=[]\n",
    "    kontes=[]\n",
    "    checking=[]\n",
    "    hilang=[]\n",
    "    maps=x[2:int(x[0])+2]\n",
    "    del x[0:int(x[0])+2]\n",
    "    row = len(maps)\n",
    "    col = len(maps[0])\n",
    "    g = Graph(row, col, maps)\n",
    "    row = len(maps)\n",
    "    col = len(maps[0])\n",
    "\n",
    "    print (f\"Case {ulang+1}:\")\n",
    "    g.countIslands()\n",
    "    king_arr=np.array(sorted(king))\n",
    "    kingdom=np.unique(king_arr)\n",
    "    df=pd.DataFrame({\"kingdom\":kingdom, \"kuasa\":np.zeros(len(kingdom))})\n",
    "    kerajaan=[]\n",
    "    kuasa=[]\n",
    "    for i in kingdom:\n",
    "        kuasa.append(king.count(i))\n",
    "    df[\"kuasa\"]=kuasa\n",
    "    for i in range(len(df[\"kuasa\"])):\n",
    "        print(f\"{df['kingdom'][i]} {df['kuasa'][i]}\")\n",
    "    print (f\"contested {sum(kontes)}\")\n",
    "\n",
    " \n",
    " \n",
    "\n"
   ]
  },
  {
   "cell_type": "code",
   "execution_count": 1,
   "id": "c95828ca",
   "metadata": {},
   "outputs": [],
   "source": [
    "import sys\n",
    "sys.setrecursionlimit(10**6)\n",
    "a_file = open(\"input.in\", \"r\")\n",
    "\n",
    "x = []\n",
    "for line in a_file:\n",
    "  stripped_line = line.strip()\n",
    "  x.append(stripped_line)\n",
    "\n",
    "a_file.close()"
   ]
  },
  {
   "cell_type": "code",
   "execution_count": 187,
   "id": "879f4992",
   "metadata": {},
   "outputs": [],
   "source": [
    "import numpy as np\n",
    "import pandas as pd\n",
    "\n",
    "\n",
    "visited = [[False for j in range(COL)]for i in range(ROW)]\n",
    "def isSafe(brs, clm):\n",
    "    print(brs)\n",
    "    print(clm)\n",
    "    if (brs >= 0 and brs < ROW and clm >= 0 and clm < COL and not visited[brs][clm] and (maps[brs][clm]==\".\")):\n",
    "        return True\n",
    "    elif (brs >= 0 and brs < ROW and clm >= 0 and clm < COL and not visited[brs][clm]\n",
    "          and maps[brs][clm]!=\".\" and maps[brs][clm]!=\"#\"):\n",
    "        if udah==0:\n",
    "            kontes.append(1)\n",
    "            del king[-1]\n",
    "            udah=udah+1\n",
    "    \n",
    "def DFS(i, j): \n",
    "    # These arrays are used to get row and\n",
    "    # column numbers of 8 neighbours\n",
    "    # of a given cell\n",
    "    rowNbr = [1, 0, -1,  0];\n",
    "    colNbr = [0, 1,  0, -1];\n",
    "\n",
    "    # Mark this cell as visited\n",
    "    visited[i][j] = True\n",
    "\n",
    "    for k in range(4):\n",
    "        if isSafe(i + rowNbr[k], j + colNbr[k]):\n",
    "            DFS(i + rowNbr[k], j + colNbr[k])\n",
    "\n",
    "def hitung(maps):   \n",
    "    for i in range(ROW):\n",
    "        for j in range(COL):\n",
    "            # If a cell with value 1 is not visited yet,\n",
    "            # then new island found\n",
    "            if visited[i][j] == False and maps[i][j] != \".\" and maps[i][j]!=\"#\":\n",
    "                udah=0\n",
    "                # Visit all cells in this island\n",
    "                # and increment island count\n",
    "                king.append(maps[i][j])\n",
    "                checking.append(maps[i][j])\n",
    "                DFS(i, j)\n",
    "                count.append(1)\n",
    "    return sum(count)-sum(kontes)"
   ]
  },
  {
   "cell_type": "code",
   "execution_count": 5,
   "id": "282ecc2b",
   "metadata": {},
   "outputs": [],
   "source": [
    "\n",
    "\n",
    "\n",
    "import numpy as np\n",
    "import pandas as pd\n",
    "\n",
    "king=[]\n",
    "kontes=[]\n",
    "checking=[]\n",
    "hilang=[]\n",
    "count=[]\n",
    "pengecekan=[]\n",
    "udah=[]\n",
    "\n",
    "\n",
    "def isSafe(i, j):\n",
    "    if (i >= 0 and i < ROW and j >= 0 and j < COL and not visited[i][j] and maps[i][j]==\".\"):\n",
    "        return True\n",
    "    elif (i >= 0 and i < ROW and j >= 0 and j < COL and not visited[i][j] and maps[i][j]==pengecekan[-1]):\n",
    "        return True\n",
    "    elif (i >= 0 and i < ROW and j >= 0 and j < COL and not visited[i][j] and maps[i][j]!=\".\" and maps[i][j]!=\"#\"):\n",
    "        if len(udah)==0:\n",
    "            del king[-1]\n",
    "            udah.append(1)\n",
    "            kontes.append(1)\n",
    "        return True\n",
    "             \n",
    " \n",
    "    # A utility function to do DFS for a 2D\n",
    "    # boolean matrix. It only considers\n",
    "    # the 8 neighbours as adjacent vertices\n",
    "def DFS(i, j):\n",
    "\n",
    "    # These arrays are used to get row and\n",
    "    # column numbers of 8 neighbours\n",
    "    # of a given cell\n",
    "    rowNbr = [1, 0, -1,  0];\n",
    "    colNbr = [0, 1,  0, -1];\n",
    "\n",
    "    # Mark this cell as visited\n",
    "    visited[i][j] = True\n",
    "\n",
    "    for k in range(4):\n",
    "        if isSafe(i + rowNbr[k], j + colNbr[k]):\n",
    "            DFS(i + rowNbr[k], j + colNbr[k])\n",
    "\n"
   ]
  },
  {
   "cell_type": "code",
   "execution_count": 321,
   "id": "908d3775",
   "metadata": {},
   "outputs": [],
   "source": [
    "ROW=len(maps)\n",
    "COL=len(maps[0])\n",
    "visited = [[False for j in range(COL)]for i in range(ROW)]"
   ]
  },
  {
   "cell_type": "code",
   "execution_count": 9,
   "id": "27099d8c",
   "metadata": {},
   "outputs": [
    {
     "name": "stdout",
     "output_type": "stream",
     "text": [
      "Case 1:\n",
      "a 1\n",
      "contested 0\n",
      "Case 2:\n",
      "a 1\n",
      "b 1\n",
      "c 2\n",
      "x 2\n",
      "contested 1\n"
     ]
    }
   ],
   "source": [
    "x=[2,2,2,\".#\",\"#a\",12,15,\"###########....\", \"#.......c.###..\",\"####......#.#..\",\".#.########.#..\",\"##...#..b#..#..\",\"#.a.#...#...###\",\n",
    "   \"####.#.#d###..#\",\"......#...e#xx#\",\".#....#########\",\".#.x..#..#.....\",\".######.c#.....\",\"......####.....\"]\n",
    "perulangan=int(x[0])\n",
    "del x[0]\n",
    "\n",
    "for ulang in range(perulangan):\n",
    "    king=[]\n",
    "    kontes=[]\n",
    "    checking=[]\n",
    "    hilang=[]\n",
    "    maps=x[2:int(x[0])+2]\n",
    "    del x[0:int(x[0])+2]\n",
    "    ROW=len(maps)\n",
    "    COL=len(maps[0])\n",
    "    visited = [[False for j in range(COL)]for i in range(ROW)]         \n",
    "    for i in range (ROW):\n",
    "        for j in range(COL):\n",
    "            # If a cell with value 1 is not visited yet,\n",
    "            # then new island found\n",
    "            if visited[i][j] == False and maps[i][j] != \"#\" and maps[i][j]!=\".\":\n",
    "                # Visit all cells in this island\n",
    "                # and increment island count\n",
    "                udah=[]\n",
    "                king.append(maps[i][j])\n",
    "                pengecekan.append(maps[i][j])\n",
    "                DFS(i,j)\n",
    "                count.append(1)\n",
    "    print(f\"Case {ulang+1}:\")\n",
    "    king_arr=np.array(sorted(king))\n",
    "    kingdom=np.unique(king_arr)\n",
    "    df=pd.DataFrame({\"kingdom\":kingdom, \"kuasa\":np.zeros(len(kingdom))})\n",
    "    kerajaan=[]\n",
    "    kuasa=[]\n",
    "    for i in kingdom:\n",
    "        kuasa.append(king.count(i))\n",
    "    df[\"kuasa\"]=kuasa\n",
    "    for i in range(len(df[\"kuasa\"])):\n",
    "        print(f\"{df['kingdom'][i]} {df['kuasa'][i]}\")\n",
    "    print (f\"contested {sum(kontes)}\")"
   ]
  },
  {
   "cell_type": "code",
   "execution_count": 1,
   "id": "cd4a50ef",
   "metadata": {},
   "outputs": [],
   "source": [
    "maps=[\"###########....\", \"#.....xbc.###..\",\"####......#.#..\",\".#.########.#..\",\"##...#..b#..#..\",\"#.a.#...#...###\",\n",
    "   \"####.#.#d###..#\",\"......#...e#xx#\",\".#....#########\",\".#.x..#..#.....\",\".######.c#.....\",\"......####.....\"]"
   ]
  },
  {
   "cell_type": "code",
   "execution_count": 2,
   "id": "20dcfe3e",
   "metadata": {},
   "outputs": [
    {
     "data": {
      "text/plain": [
       "['###########....',\n",
       " '#.....xbc.###..',\n",
       " '####......#.#..',\n",
       " '.#.########.#..',\n",
       " '##...#..b#..#..',\n",
       " '#.a.#...#...###',\n",
       " '####.#.#d###..#',\n",
       " '......#...e#xx#',\n",
       " '.#....#########',\n",
       " '.#.x..#..#.....',\n",
       " '.######.c#.....',\n",
       " '......####.....']"
      ]
     },
     "execution_count": 2,
     "metadata": {},
     "output_type": "execute_result"
    }
   ],
   "source": [
    "maps"
   ]
  },
  {
   "cell_type": "code",
   "execution_count": 3,
   "id": "352058ec",
   "metadata": {},
   "outputs": [
    {
     "ename": "SyntaxError",
     "evalue": "invalid syntax (Temp/ipykernel_22504/1264327122.py, line 4)",
     "output_type": "error",
     "traceback": [
      "\u001b[1;36m  File \u001b[1;32m\"C:\\Users\\sandr\\AppData\\Local\\Temp/ipykernel_22504/1264327122.py\"\u001b[1;36m, line \u001b[1;32m4\u001b[0m\n\u001b[1;33m    for i in range(ROW):\u001b[0m\n\u001b[1;37m                       ^\u001b[0m\n\u001b[1;31mSyntaxError\u001b[0m\u001b[1;31m:\u001b[0m invalid syntax\n"
     ]
    }
   ],
   "source": [
    "ROW=len(maps)\n",
    "COL=len(maps[0])\n",
    "visited = [[False for j in range(COL)]for i in range(ROW)         \n",
    "for i in range(ROW):\n",
    "    for j in range(COL):\n",
    "        # If a cell with value 1 is not visited yet,\n",
    "        # then new island found\n",
    "        if visited[i][j] == False and maps[i][j] != \"#\" and maps[i][j]!=\".\":\n",
    "            # Visit all cells in this island\n",
    "            # and increment island count\n",
    "            udah=[]\n",
    "            king.append(maps[i][j])\n",
    "            pengecekan.append(maps[i][j])\n",
    "            DFS(i,j)\n",
    "            count.append(1)"
   ]
  },
  {
   "cell_type": "code",
   "execution_count": 336,
   "id": "0b0d3703",
   "metadata": {},
   "outputs": [
    {
     "name": "stdout",
     "output_type": "stream",
     "text": [
      "0\n",
      "1\n",
      "2\n",
      "3\n",
      "4\n",
      "5\n",
      "6\n",
      "7\n",
      "8\n",
      "9\n",
      "10\n",
      "11\n"
     ]
    }
   ],
   "source": [
    "for i in range(ROW):\n",
    "    print(i)"
   ]
  },
  {
   "cell_type": "code",
   "execution_count": 1,
   "id": "d556a51d",
   "metadata": {},
   "outputs": [
    {
     "ename": "NameError",
     "evalue": "name 'raw_input' is not defined",
     "output_type": "error",
     "traceback": [
      "\u001b[1;31m---------------------------------------------------------------------------\u001b[0m",
      "\u001b[1;31mNameError\u001b[0m                                 Traceback (most recent call last)",
      "\u001b[1;32m~\\AppData\\Local\\Temp/ipykernel_7840/1835601720.py\u001b[0m in \u001b[0;36m<module>\u001b[1;34m\u001b[0m\n\u001b[0;32m     13\u001b[0m                 \u001b[0mrunning\u001b[0m\u001b[1;33m.\u001b[0m\u001b[0mpop\u001b[0m\u001b[1;33m(\u001b[0m\u001b[1;33m)\u001b[0m\u001b[1;33m\u001b[0m\u001b[1;33m\u001b[0m\u001b[0m\n\u001b[0;32m     14\u001b[0m \u001b[1;33m\u001b[0m\u001b[0m\n\u001b[1;32m---> 15\u001b[1;33m \u001b[0mraw\u001b[0m \u001b[1;33m=\u001b[0m \u001b[0mraw_input\u001b[0m\u001b[1;33m(\u001b[0m\u001b[1;33m)\u001b[0m\u001b[1;33m\u001b[0m\u001b[1;33m\u001b[0m\u001b[0m\n\u001b[0m\u001b[0;32m     16\u001b[0m \u001b[0mcharacters\u001b[0m \u001b[1;33m=\u001b[0m \u001b[0mlist\u001b[0m\u001b[1;33m(\u001b[0m\u001b[0mraw\u001b[0m\u001b[1;33m)\u001b[0m\u001b[1;33m\u001b[0m\u001b[1;33m\u001b[0m\u001b[0m\n\u001b[0;32m     17\u001b[0m \u001b[0mrunning\u001b[0m \u001b[1;33m=\u001b[0m \u001b[1;33m[\u001b[0m\u001b[1;33m]\u001b[0m\u001b[1;33m\u001b[0m\u001b[1;33m\u001b[0m\u001b[0m\n",
      "\u001b[1;31mNameError\u001b[0m: name 'raw_input' is not defined"
     ]
    }
   ],
   "source": [
    "def permutations():\n",
    "    global running\n",
    "    global characters\n",
    "    global bitmask\n",
    "    if len(running) == len(characters):\n",
    "        print(''.join(running))\n",
    "    else:\n",
    "        for i in xrange(len(characters)):\n",
    "            if ((bitmask>>i)&1) == 0:\n",
    "                bitmask |= 1<<i\n",
    "                running.append(characters[i])\n",
    "                permutations()\n",
    "                running.pop()\n",
    "\n",
    "raw = raw_input()\n",
    "characters = list(raw)\n",
    "running = []\n",
    "bitmask = 0\n",
    "permutations()"
   ]
  },
  {
   "cell_type": "code",
   "execution_count": 335,
   "id": "a7b6f969",
   "metadata": {},
   "outputs": [
    {
     "data": {
      "text/plain": [
       "12"
      ]
     },
     "execution_count": 335,
     "metadata": {},
     "output_type": "execute_result"
    }
   ],
   "source": [
    "ROW"
   ]
  },
  {
   "cell_type": "code",
   "execution_count": null,
   "id": "1642d853",
   "metadata": {},
   "outputs": [],
   "source": []
  }
 ],
 "metadata": {
  "kernelspec": {
   "display_name": "Python 3 (ipykernel)",
   "language": "python",
   "name": "python3"
  },
  "language_info": {
   "codemirror_mode": {
    "name": "ipython",
    "version": 3
   },
   "file_extension": ".py",
   "mimetype": "text/x-python",
   "name": "python",
   "nbconvert_exporter": "python",
   "pygments_lexer": "ipython3",
   "version": "3.9.7"
  }
 },
 "nbformat": 4,
 "nbformat_minor": 5
}
